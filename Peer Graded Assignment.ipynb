{
  "metadata": {
    "kernelspec": {
      "name": "javascript",
      "display_name": "JavaScript",
      "language": "javascript"
    },
    "language_info": {
      "codemirror_mode": {
        "name": "javascript"
      },
      "file_extension": ".js",
      "mimetype": "text/javascript",
      "name": "javascript",
      "nbconvert_exporter": "javascript",
      "pygments_lexer": "javascript",
      "version": "es2017"
    }
  },
  "nbformat_minor": 4,
  "nbformat": 4,
  "cells": [
    {
      "cell_type": "markdown",
      "source": "<center>\n    <img src=\"https://s3-api.us-geo.objectstorage.softlayer.net/cf-courses-data/CognitiveClass/Logos/organization_logo/organization_logo.png\" width=\"300\" alt=\"cognitiveclass.ai logo\"  />\n</center>\n",
      "metadata": {}
    },
    {
      "cell_type": "markdown",
      "source": "#### Add your code below following the instructions given in the course\n",
      "metadata": {}
    },
    {
      "cell_type": "markdown",
      "source": "<h1> My Jupyter Notebook on IBM Watson Studio </h1>",
      "metadata": {
        "tags": []
      }
    },
    {
      "cell_type": "markdown",
      "source": "<b> Name: Allison <br>\n    Occupation: Research Analyst </b>",
      "metadata": {}
    },
    {
      "cell_type": "markdown",
      "source": "<i> I am interested in Data Science because I want to learn how to gather insights more effectively from data. As a research analyst, my task is to look into various news sources and write them into context for clients. While it is easy to do this task with a handful of sources, I want to do the next step which is analyze large volume of information. </i>",
      "metadata": {}
    },
    {
      "cell_type": "markdown",
      "source": "<h3> Currently, I am trying to learn Javascript (eventually I will tackle python and maybe SQL). Below is a practice code for JS: </h3>",
      "metadata": {}
    },
    {
      "cell_type": "code",
      "source": "let myStr =\"Learning how to code is \";\nlet someAdjective = \"fun\";\nmyStr += someAdjective\nconsole.log(myStr)",
      "metadata": {
        "trusted": true
      },
      "execution_count": 2,
      "outputs": [
        {
          "execution_count": 2,
          "output_type": "execute_result",
          "data": {},
          "metadata": {}
        },
        {
          "event": "stream",
          "name": "stdout",
          "text": "Learning how to code is fun\n",
          "output_type": "stream"
        }
      ]
    },
    {
      "cell_type": "markdown",
      "source": "My learning goals are as follows: \n<ol>\n    <li> Learn the following programs (JS, VBA, Python) through <a href=\"https://www.freecodecamp.org/\"> freecodecamp </a> or <a href=\"https://www.w3schools.com/\"> W3 schools </a> </li>\n    <li> Further my reading about Data Science through books </li>\n<li> Find ways to apply my learning </li> \n    </ol>\n    \n<table>\n    <th></th>\n        <th>W3 Schools</th>\n    <th> Freecodecamp</th>\n    <tr>\n        <th> Quotes from website </th>\n        <td>Learn to Code With the world's largest web developer site.</td>\n    <td>Learn to code — for free. Build projects. Earn certifications.</td>\n    </tr>\n    </table>\n    \n   ",
      "metadata": {}
    }
  ]
}